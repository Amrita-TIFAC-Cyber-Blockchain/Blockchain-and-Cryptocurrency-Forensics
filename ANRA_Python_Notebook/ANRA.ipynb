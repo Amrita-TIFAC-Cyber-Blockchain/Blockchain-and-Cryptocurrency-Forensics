{
 "cells": [
  {
   "cell_type": "markdown",
   "metadata": {},
   "source": [
    "<center>\n",
    "    <img src=\"https://raw.githubusercontent.com/Amrita-TIFAC-Cyber-Blockchain/Amrita-TIFAC-Cyber-Blockchain/master/AVV_PNG.png\" width=\"300\" alt=\"Amrita Vishwa Vidyapeetham Logo\"  />\n",
    "</center>\n"
   ]
  },
  {
   "cell_type": "markdown",
   "metadata": {},
   "source": [
    "# ANRA: Blockchain & Cryptocurrency Forensics"
   ]
  },
  {
   "cell_type": "markdown",
   "metadata": {},
   "source": [
    "##### Module                   : Blockchain - Bitcoin - Explorer - API\n",
    "##### Description              : Library of APIs from blockcypher.com to gather data about bitcoin blockchain\n",
    "##### Python Author            : Anuhya Gandavaram \n",
    "##### Guide and Reviewer       : Ramaguru Radhakrishnan\n",
    "##### Created Date             : 12 May 2021\n",
    "##### Last Updated             : 15 May 2021\n",
    "##### Python Notebook Creation : 04 Jan 2022\n",
    "##### Python Notebook Updated  : 04 Jan 2022"
   ]
  },
  {
   "cell_type": "markdown",
   "metadata": {},
   "source": [
    "Installing the \"blockcypher\" package using pip module"
   ]
  },
  {
   "cell_type": "code",
   "execution_count": 23,
   "metadata": {},
   "outputs": [
    {
     "name": "stdout",
     "output_type": "stream",
     "text": [
      "Requirement already satisfied: blockcypher in /home/jupyterlab/conda/envs/python/lib/python3.7/site-packages (1.0.93)\n",
      "Requirement already satisfied: python-dateutil<3.0.0 in /home/jupyterlab/conda/envs/python/lib/python3.7/site-packages (from blockcypher) (2.8.2)\n",
      "Requirement already satisfied: bitcoin==1.1.39 in /home/jupyterlab/conda/envs/python/lib/python3.7/site-packages (from blockcypher) (1.1.39)\n",
      "Requirement already satisfied: requests<3.0.0 in /home/jupyterlab/conda/envs/python/lib/python3.7/site-packages (from blockcypher) (2.26.0)\n",
      "Requirement already satisfied: six>=1.5 in /home/jupyterlab/conda/envs/python/lib/python3.7/site-packages (from python-dateutil<3.0.0->blockcypher) (1.16.0)\n",
      "Requirement already satisfied: certifi>=2017.4.17 in /home/jupyterlab/conda/envs/python/lib/python3.7/site-packages (from requests<3.0.0->blockcypher) (2021.10.8)\n",
      "Requirement already satisfied: urllib3<1.27,>=1.21.1 in /home/jupyterlab/conda/envs/python/lib/python3.7/site-packages (from requests<3.0.0->blockcypher) (1.26.7)\n",
      "Requirement already satisfied: idna<4,>=2.5 in /home/jupyterlab/conda/envs/python/lib/python3.7/site-packages (from requests<3.0.0->blockcypher) (3.1)\n",
      "Requirement already satisfied: charset-normalizer~=2.0.0 in /home/jupyterlab/conda/envs/python/lib/python3.7/site-packages (from requests<3.0.0->blockcypher) (2.0.8)\n"
     ]
    }
   ],
   "source": [
    "import sys\n",
    "!{sys.executable} -m pip install blockcypher"
   ]
  },
  {
   "cell_type": "markdown",
   "metadata": {},
   "source": [
    "Import the required libraries from \"blockcypher\" package"
   ]
  },
  {
   "cell_type": "code",
   "execution_count": 24,
   "metadata": {},
   "outputs": [],
   "source": [
    "from blockcypher import get_blockchain_overview\n",
    "from blockcypher import get_block_overview\n",
    "from blockcypher import get_block_overview\n",
    "from blockcypher import get_address_overview\n",
    "from blockcypher import get_address_details\n",
    "from blockcypher import get_address_full\n",
    "from blockcypher import get_wallet_addresses\n",
    "from blockcypher import get_transaction_details\n",
    "from blockcypher import get_broadcast_transactions\n",
    "from blockcypher import get_transaction_details\n",
    "from blockcypher import get_metadata"
   ]
  },
  {
   "cell_type": "markdown",
   "metadata": {},
   "source": [
    "API Key is required to access the \"blockcypher\" libraries in order to retrieve the data."
   ]
  },
  {
   "cell_type": "code",
   "execution_count": 25,
   "metadata": {},
   "outputs": [],
   "source": [
    "apikey = 'f02279a7b29844e587c0b0fbadf49964'"
   ]
  },
  {
   "cell_type": "markdown",
   "metadata": {},
   "source": [
    "Sample Values are provided below for testing the code"
   ]
  },
  {
   "cell_type": "code",
   "execution_count": 26,
   "metadata": {},
   "outputs": [],
   "source": [
    "address = '1DEP8i3QJCsomS4BSMY2RpU1upv62aGvhD'\n",
    "haash = '43fa951e1bea87c282f6725cf8bdc08bb48761396c3af8dd5a41a085ab62acc9'\n",
    "block_height = '671142'\n",
    "wallet_Name = 'alice'"
   ]
  },
  {
   "cell_type": "markdown",
   "metadata": {},
   "source": [
    "We provide options to the user to select"
   ]
  },
  {
   "cell_type": "code",
   "execution_count": 27,
   "metadata": {},
   "outputs": [],
   "source": [
    "choices = {1:'Overview',2:'Get Block from Hash',3:'Get Block from Height',4:'Get Balance',5:'Get Transaction Details of Address',\n",
    "6:'Get Full Transaction of Address',7:'Get Wallet Addresses',8:'Get HD Wallet Addresses',9:'Get Transaction Details from Hash',\n",
    "10:'Get Unconfirmed Transactions',11:'Get Confidence from Hash',12:'Get Metadata of Address'}\n"
   ]
  },
  {
   "cell_type": "markdown",
   "metadata": {},
   "source": [
    "Get the user input through console "
   ]
  },
  {
   "cell_type": "code",
   "execution_count": 28,
   "metadata": {},
   "outputs": [
    {
     "name": "stdout",
     "output_type": "stream",
     "text": [
      "1. Overview\n",
      "2. Get Block from Hash\n",
      "3. Get Block from Height\n",
      "4. Get Balance\n",
      "5. Get Transaction Details of Address\n",
      "6. Get Full Transaction of Address\n",
      "7. Get Wallet Addresses\n",
      "8. Get HD Wallet Addresses\n",
      "9. Get Transaction Details from Hash\n",
      "10. Get Unconfirmed Transactions\n",
      "11. Get Confidence from Hash\n",
      "12. Get Metadata of Address\n"
     ]
    },
    {
     "name": "stdin",
     "output_type": "stream",
     "text": [
      "Please Enter your Choice:  4\n"
     ]
    }
   ],
   "source": [
    "for i in range(len(choices.keys())):\n",
    "\tprint(str(i+1)+'. '+choices[i+1])\n",
    "choice = int(input(\"Please Enter your Choice: \"))"
   ]
  },
  {
   "cell_type": "markdown",
   "metadata": {},
   "source": [
    "Based on the choice provided by the user, the corresponding function is invoked to receive the further inputs"
   ]
  },
  {
   "cell_type": "code",
   "execution_count": 29,
   "metadata": {},
   "outputs": [
    {
     "name": "stdin",
     "output_type": "stream",
     "text": [
      "Enter Address (sample: 1DEP8i3QJCsomS4BSMY2RpU1upv62aGvhD):  1DEP8i3QJCsomS4BSMY2RpU1upv62aGvhD\n"
     ]
    }
   ],
   "source": [
    "if choice==2 or choice==9 or choice==11:\n",
    "\thaash = input(\"Enter Hash (sample: 43fa951e1bea87c282f6725cf8bdc08bb48761396c3af8dd5a41a085ab62acc9): \")\n",
    "elif choice==4 or choice==5 or choice==6 or choice==12:\n",
    "\taddress = input(\"Enter Address (sample: 1DEP8i3QJCsomS4BSMY2RpU1upv62aGvhD): \")\n",
    "elif choice==3:\n",
    "\tblock_height = input(\"Enter Block Height (sample: 671142): \")\n",
    "elif choice==7 or choice==8:\n",
    "\twallet_Name = input(\"Enter Wallet Name (sample: alice): \")\n",
    "else:\n",
    "\tprint()\n"
   ]
  },
  {
   "cell_type": "markdown",
   "metadata": {},
   "source": [
    "The input is then passed to the \"blockcypher\" function through REST API and results are displayed"
   ]
  },
  {
   "cell_type": "code",
   "execution_count": 30,
   "metadata": {},
   "outputs": [
    {
     "name": "stdout",
     "output_type": "stream",
     "text": [
      "Received:  4654010  sat\n",
      "Sent:  0  sat\n",
      "Balance:  4654010  sat\n"
     ]
    }
   ],
   "source": [
    "if choice==1:\n",
    "\tresult = get_blockchain_overview()\n",
    "\tprint(\"Block Height: \",result['height'])\n",
    "elif choice==2:\n",
    "\tresult = get_block_overview(haash)\n",
    "\tprint(\"Block Height: \",result['height'])\n",
    "\tprint(\"Number of Transactions: \",len(result['txids']))\n",
    "elif choice==3:\n",
    "\tresult = get_block_overview(block_height, txn_limit=1, txn_offset=1)\n",
    "\tprint(\"Number of Transactions: \",len(result['txids']))\n",
    "elif choice==4:\n",
    "\tresult = get_address_overview(address)\n",
    "\tprint(\"Received: \",result['total_received'],\" sat\")\n",
    "\tprint(\"Sent: \",result['total_sent'],\" sat\")\n",
    "\tprint(\"Balance: \",result['balance'],\" sat\")\n",
    "elif choice==5:\n",
    "\tresult = get_address_details(address)\n",
    "\tprint(\"Received: \",result['total_received'],\" sat\")\n",
    "\tprint(\"Sent: \",result['total_sent'],\" sat\")\n",
    "\tprint(\"Balance: \",result['balance'],\" sat\")\n",
    "\tprint(\"Number of Transactions: \",result['n_tx'])\n",
    "elif choice==6:\n",
    "\tresult = get_address_full(address=address)\n",
    "\tprint(\"Received: \",result['total_received'],\" sat\")\n",
    "\tprint(\"Sent: \",result['total_sent'],\" sat\")\n",
    "\tprint(\"Balance: \",result['balance'],\" sat\")\n",
    "\tprint(\"Number of Transactions: \",result['n_tx'])\n",
    "elif choice==7:\n",
    "\tresult = get_wallet_addresses(wallet_name=wallet_Name, api_key=apikey)\n",
    "\tprint(\"Number of addresses associated: \",len(result['addresses']))\n",
    "elif choice==8:\n",
    "\tresult = get_wallet_addresses(wallet_name=wallet_Name, api_key=apikey, is_hd_wallet=True)\n",
    "\tprint(\"Number of addresses associated: \",len(result['addresses']))\n",
    "elif choice==9:\n",
    "\tresult = get_transaction_details(haash)\n",
    "\tprint(\"Block Height: \",result['block_height'])\n",
    "\tprint(\"Total :\",result['total'],\" sat\")\n",
    "elif choice==10:\n",
    "\tresult = get_broadcast_transactions(limit=1)\n",
    "\tprint(\"Number of Unconfirmed Transactions: \",len(result))\n",
    "\tprint(\"Transaction Hash: \",result[0]['hash'])\n",
    "elif choice==11:\n",
    "\tresult = get_transaction_details(haash, confidence_only=True, api_key=apikey)\n",
    "\tprint(\"Confidence: \",result['confidence'])\n",
    "elif choice==12:\n",
    "\tresult = get_metadata(address=address, api_key=apikey)\n",
    "\tprint(result)\n",
    "else:\n",
    "\tprint('Thank you !!!')"
   ]
  },
  {
   "cell_type": "markdown",
   "metadata": {},
   "source": [
    "Thank you for reading and checking our Python Notebook for Bitcoin Block Reader - API Mode."
   ]
  }
 ],
 "metadata": {
  "kernelspec": {
   "display_name": "Python",
   "language": "python",
   "name": "conda-env-python-py"
  },
  "language_info": {
   "codemirror_mode": {
    "name": "ipython",
    "version": 3
   },
   "file_extension": ".py",
   "mimetype": "text/x-python",
   "name": "python",
   "nbconvert_exporter": "python",
   "pygments_lexer": "ipython3",
   "version": "3.7.12"
  }
 },
 "nbformat": 4,
 "nbformat_minor": 4
}
